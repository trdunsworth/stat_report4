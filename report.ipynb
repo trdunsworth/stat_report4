{
 "cells": [
  {
   "cell_type": "markdown",
   "id": "0e8a8323",
   "metadata": {},
   "source": [
    "# DECC Statistics Report for Week 36\n",
    "\n",
    "## Starting from 31 August 2025 through 06 September 2025"
   ]
  },
  {
   "cell_type": "code",
   "execution_count": null,
   "id": "f2b3d962",
   "metadata": {},
   "outputs": [],
   "source": []
  }
 ],
 "metadata": {
  "language_info": {
   "name": "python"
  }
 },
 "nbformat": 4,
 "nbformat_minor": 5
}
