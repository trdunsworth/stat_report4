{
 "cells": [
  {
   "cell_type": "raw",
   "id": "7cf49d4a-7b88-42de-ba5e-a55d05ff9cf7",
   "metadata": {},
   "source": [
    "---\n",
    "title: DECC Statistics Report\n",
    "author: Tony Dunsworth, Ph.D.\n",
    "date: 2025-09-09\n",
    "format:\n",
    "    docx:\n",
    "        toc: true\n",
    "        toc-depth: 2\n",
    "        number-sections: true\n",
    "        highlight-style: ayu-light\n",
    "execute: enabled\n",
    "jupyter: python3\n",
    "---"
   ]
  },
  {
   "cell_type": "code",
   "execution_count": 4,
   "id": "f08b8876-ef6f-47ae-847f-4600be838ce7",
   "metadata": {},
   "outputs": [],
   "source": [
    "#| eval: true\n",
    "#| echo: false\n",
    "#| label: setup\n",
    "import pandas as pd\n",
    "import numpy as np\n",
    "import scipy.stats as stats\n",
    "import plotly as plt\n",
    "import distfit\n",
    "import statsmodels as sm\n",
    "\n",
    "df = pd.read_csv('data/Week36_25.csv')"
   ]
  },
  {
   "cell_type": "markdown",
   "id": "0e8a8323",
   "metadata": {},
   "source": [
    "# DECC Statistics Report for Week 36\n",
    "\n",
    "## Starting from 31 August 2025 through 06 September 2025"
   ]
  },
  {
   "cell_type": "code",
   "execution_count": null,
   "id": "f2b3d962",
   "metadata": {},
   "outputs": [],
   "source": []
  }
 ],
 "metadata": {
  "kernelspec": {
   "display_name": "Python 3 (ipykernel)",
   "language": "python",
   "name": "python3"
  },
  "language_info": {
   "codemirror_mode": {
    "name": "ipython",
    "version": 3
   },
   "file_extension": ".py",
   "mimetype": "text/x-python",
   "name": "python",
   "nbconvert_exporter": "python",
   "pygments_lexer": "ipython3",
   "version": "3.11.13"
  }
 },
 "nbformat": 4,
 "nbformat_minor": 5
}
